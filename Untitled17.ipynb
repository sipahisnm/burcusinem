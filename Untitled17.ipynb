{
  "nbformat": 4,
  "nbformat_minor": 0,
  "metadata": {
    "colab": {
      "name": "Untitled17.ipynb",
      "provenance": [],
      "authorship_tag": "ABX9TyNq9QAnbVssAEbNKzv0Ms8u",
      "include_colab_link": true
    },
    "kernelspec": {
      "name": "python3",
      "display_name": "Python 3"
    }
  },
  "cells": [
    {
      "cell_type": "markdown",
      "metadata": {
        "id": "view-in-github",
        "colab_type": "text"
      },
      "source": [
        "<a href=\"https://colab.research.google.com/github/sipahisnm/burcusinem/blob/main/Untitled17.ipynb\" target=\"_parent\"><img src=\"https://colab.research.google.com/assets/colab-badge.svg\" alt=\"Open In Colab\"/></a>"
      ]
    },
    {
      "cell_type": "code",
      "metadata": {
        "colab": {
          "base_uri": "https://localhost:8080/"
        },
        "id": "aDtt7Mu_cBVk",
        "outputId": "647fdf61-b54e-4e00-ea7f-14cde44e9dc0"
      },
      "source": [
        "#first solution\r\n",
        "\r\n",
        "\r\n",
        "\r\n",
        "fruits = ['Apples', 'Oranges', 'Bananas']\r\n",
        "quantities = [5, 3, 4]\r\n",
        "prices = [1.50, 2.25, 0.89]\r\n",
        "i = 0\r\n",
        "output = []\r\n",
        "for fruit in fruits:\r\n",
        " temp_qty = quantities[i]\r\n",
        " temp_price = prices[i]\r\n",
        " output.append((fruit, temp_qty, temp_price))\r\n",
        " i += 1\r\n",
        "print(output)"
      ],
      "execution_count": 3,
      "outputs": [
        {
          "output_type": "stream",
          "text": [
            "[('Apples', 5, 1.5), ('Oranges', 3, 2.25), ('Bananas', 4, 0.89)]\n"
          ],
          "name": "stdout"
        }
      ]
    },
    {
      "cell_type": "code",
      "metadata": {
        "colab": {
          "base_uri": "https://localhost:8080/"
        },
        "id": "-2s4Jfr6cGo5",
        "outputId": "a11fb776-4de5-4f76-a2dc-b7e9aa476be4"
      },
      "source": [
        "# secomd  solustion\r\n",
        "fruits = ['Apples', 'Oranges', 'Bananas']\r\n",
        "quantities = [5, 3, 4]\r\n",
        "prices = [1.50, 2.25, 0.89]\r\n",
        "groceries = zip(fruits, quantities, prices)\r\n",
        "print(list(groceries))\r\n"
      ],
      "execution_count": 4,
      "outputs": [
        {
          "output_type": "stream",
          "text": [
            "[('Apples', 5, 1.5), ('Oranges', 3, 2.25), ('Bananas', 4, 0.89)]\n"
          ],
          "name": "stdout"
        }
      ]
    },
    {
      "cell_type": "code",
      "metadata": {
        "colab": {
          "base_uri": "https://localhost:8080/"
        },
        "id": "ATmLVV7FdjXJ",
        "outputId": "5058c30b-5498-4c2a-985f-ee01b89e7758"
      },
      "source": [
        "#  zip()\r\n",
        "\r\n",
        "\r\n",
        "\r\n",
        "a = (\"John\", \"Charles\", \"Mike\")\r\n",
        "b = (\"Jenny\", \"Christy\", \"Monica\")\r\n",
        "\r\n",
        "x = zip(a, b)\r\n",
        "print(tuple(x))\r\n"
      ],
      "execution_count": 19,
      "outputs": [
        {
          "output_type": "stream",
          "text": [
            "(('John', 'Jenny'), ('Charles', 'Christy'), ('Mike', 'Monica'))\n"
          ],
          "name": "stdout"
        }
      ]
    },
    {
      "cell_type": "code",
      "metadata": {
        "colab": {
          "base_uri": "https://localhost:8080/"
        },
        "id": "fX-ZDGoUhS6F",
        "outputId": "65ffd5f6-a44b-411a-a2f3-32060e383adc"
      },
      "source": [
        "a = (\"John\", \"Charles\", \"Mike\")\r\n",
        "b = (\"Jenny\", \"Christy\", \"Monica\", \"Vicky\")\r\n",
        "\r\n",
        "x = zip(a, b)\r\n",
        "\r\n",
        "\r\n",
        "\r\n",
        "print(tuple(x))"
      ],
      "execution_count": 20,
      "outputs": [
        {
          "output_type": "stream",
          "text": [
            "(('John', 'Jenny'), ('Charles', 'Christy'), ('Mike', 'Monica'))\n"
          ],
          "name": "stdout"
        }
      ]
    },
    {
      "cell_type": "code",
      "metadata": {
        "id": "LJxkXwGSdjbQ"
      },
      "source": [
        ""
      ],
      "execution_count": null,
      "outputs": []
    },
    {
      "cell_type": "code",
      "metadata": {
        "id": "4NZ3onsLdjfY"
      },
      "source": [
        "Return Value from all()\r\n",
        "all() method returns:\r\n",
        "\r\n",
        "True - If all elements in an iterable are true\r\n",
        "False - If any element in an iterable is false"
      ],
      "execution_count": null,
      "outputs": []
    },
    {
      "cell_type": "code",
      "metadata": {
        "colab": {
          "base_uri": "https://localhost:8080/"
        },
        "id": "pbJqWNvVcWYT",
        "outputId": "763bd53e-c120-478a-dc44-cf95b437016f"
      },
      "source": [
        "l = [1, 3, 4, 5]\r\n",
        "print(all(l))"
      ],
      "execution_count": 5,
      "outputs": [
        {
          "output_type": "stream",
          "text": [
            "True\n"
          ],
          "name": "stdout"
        }
      ]
    },
    {
      "cell_type": "code",
      "metadata": {
        "colab": {
          "base_uri": "https://localhost:8080/"
        },
        "id": "kR47EClWduT2",
        "outputId": "7e55a7a1-b144-4d2b-9a9d-0210d5b0c89f"
      },
      "source": [
        "l = [0, False]\r\n",
        "print(all(l))"
      ],
      "execution_count": 6,
      "outputs": [
        {
          "output_type": "stream",
          "text": [
            "False\n"
          ],
          "name": "stdout"
        }
      ]
    },
    {
      "cell_type": "code",
      "metadata": {
        "colab": {
          "base_uri": "https://localhost:8080/"
        },
        "id": "xU9ZXCI1duXc",
        "outputId": "35bf5ec1-7233-43b3-8feb-066d3c4be242"
      },
      "source": [
        "l = []\r\n",
        "print(all(l))  #because emty iterable, not empty list"
      ],
      "execution_count": 7,
      "outputs": [
        {
          "output_type": "stream",
          "text": [
            "True\n"
          ],
          "name": "stdout"
        }
      ]
    },
    {
      "cell_type": "code",
      "metadata": {
        "colab": {
          "base_uri": "https://localhost:8080/"
        },
        "id": "ZHndSPE1fbyy",
        "outputId": "34629b47-177f-435e-afea-1d3886a8d5e3"
      },
      "source": [
        "s = \"This is good\"\r\n",
        "print(all(s))"
      ],
      "execution_count": 8,
      "outputs": [
        {
          "output_type": "stream",
          "text": [
            "True\n"
          ],
          "name": "stdout"
        }
      ]
    },
    {
      "cell_type": "code",
      "metadata": {
        "colab": {
          "base_uri": "https://localhost:8080/"
        },
        "id": "oVgj4yPOdua1",
        "outputId": "ff59d98a-8142-49c6-83f8-e00229df3b77"
      },
      "source": [
        "s = {0: 'False', 1: 'False'}\r\n",
        "print(all(s))"
      ],
      "execution_count": 9,
      "outputs": [
        {
          "output_type": "stream",
          "text": [
            "False\n"
          ],
          "name": "stdout"
        }
      ]
    },
    {
      "cell_type": "code",
      "metadata": {
        "colab": {
          "base_uri": "https://localhost:8080/"
        },
        "id": "K7nwrPBMfuUi",
        "outputId": "63d2e0d5-7e42-47d3-bd02-7d1776eb9234"
      },
      "source": [
        "s = {}\r\n",
        "print(all(s))\r\n"
      ],
      "execution_count": 10,
      "outputs": [
        {
          "output_type": "stream",
          "text": [
            "True\n"
          ],
          "name": "stdout"
        }
      ]
    },
    {
      "cell_type": "code",
      "metadata": {
        "colab": {
          "base_uri": "https://localhost:8080/"
        },
        "id": "zl7IQEm1fuYY",
        "outputId": "a37976ee-b28f-4d04-f73e-bbd473807f2e"
      },
      "source": [
        "s = {'0': 'True'}\r\n",
        "print(all(s))"
      ],
      "execution_count": 11,
      "outputs": [
        {
          "output_type": "stream",
          "text": [
            "True\n"
          ],
          "name": "stdout"
        }
      ]
    },
    {
      "cell_type": "code",
      "metadata": {
        "colab": {
          "base_uri": "https://localhost:8080/"
        },
        "id": "ho8xQf6lfua5",
        "outputId": "77a1341b-43b9-4290-c6d6-2b69e177d694"
      },
      "source": [
        "abc_list=['a', 'b', 'c']\r\n",
        "num_list=[1, 2, 3]\r\n",
        "for char in abc_list:\r\n",
        "   for num in num_list:\r\n",
        "      print(char, num)\r\n"
      ],
      "execution_count": 33,
      "outputs": [
        {
          "output_type": "stream",
          "text": [
            "a 1\n",
            "a 2\n",
            "a 3\n",
            "b 1\n",
            "b 2\n",
            "b 3\n",
            "c 1\n",
            "c 2\n",
            "c 3\n"
          ],
          "name": "stdout"
        }
      ]
    }
  ]
}